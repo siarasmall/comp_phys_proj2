{
  "cells": [
    {
      "cell_type": "markdown",
      "metadata": {
        "colab_type": "text",
        "id": "view-in-github"
      },
      "source": [
        "<a href=\"https://colab.research.google.com/github/siarasmall/comp_phys_proj2/blob/main/initial.ipynb\" target=\"_parent\"><img src=\"https://colab.research.google.com/assets/colab-badge.svg\" alt=\"Open In Colab\"/></a>"
      ]
    },
    {
      "cell_type": "code",
      "execution_count": null,
      "metadata": {
        "id": "Mar0lOkeMWfj"
      },
      "outputs": [],
      "source": [
        "import numpy as np\n",
        "from scipy.sparse import diags\n",
        "import matplotlib.pyplot as plt\n",
        "from matplotlib.animation import FuncAnimation"
      ]
    },
    {
      "cell_type": "code",
      "execution_count": null,
      "metadata": {
        "id": "1rqCBJ4DMhF4"
      },
      "outputs": [],
      "source": [
        "NUM=100\n",
        "dt = 0.1\n",
        "dx = 0.1"
      ]
    },
    {
      "cell_type": "code",
      "execution_count": null,
      "metadata": {
        "id": "FUkWyuigsTDG"
      },
      "outputs": [],
      "source": [
        "def potential_barrier(V, start, stop, mag):\n",
        "  for i in range(start, stop):\n",
        "    V[i][i] = mag"
      ]
    },
    {
      "cell_type": "code",
      "execution_count": null,
      "metadata": {
        "id": "pFdP52AVMYbb"
      },
      "outputs": [],
      "source": [
        "M = diags([np.ones(NUM-1),-2*np.ones(NUM),np.ones(NUM-1)], [-1,0,1]).toarray()\n",
        "I = np.identity(NUM)\n",
        "\n",
        "# No potential:\n",
        "# V = np.zeros([NUM, NUM])\n",
        "\n",
        "# Potential barrier:\n",
        "V = np.zeros([NUM, NUM])\n",
        "potential_barrier(V, 0, 40, 1000)\n",
        "potential_barrier(V, 50, 100, 1000)\n",
        "\n",
        "total = I + 0.5*dt/(1j*dx**2) * M - dt/(1j) * V\n",
        "# print(total)\n",
        "\n",
        "inv = np.linalg.inv(total)\n",
        "# print(inv)"
      ]
    },
    {
      "cell_type": "code",
      "execution_count": null,
      "metadata": {
        "id": "otJkNCJhMkSp"
      },
      "outputs": [],
      "source": [
        "psi = np.zeros([NUM])\n",
        "psi[45] = 3\n",
        "\n",
        "# for i in range(0, 30):\n",
        "#   psi[i] = 10/np.sqrt(2*np.pi) * np.exp(-0.5*(i-10)**2)\n",
        "\n",
        "x = [0 + i*dx for i in range(NUM)]\n",
        "# print(psi)"
      ]
    },
    {
      "cell_type": "code",
      "execution_count": null,
      "metadata": {
        "id": "UnbBTI_nml_V"
      },
      "outputs": [],
      "source": []
    },
    {
      "cell_type": "code",
      "execution_count": null,
      "metadata": {
        "id": "i7ZVNFQ5NWT8"
      },
      "outputs": [],
      "source": [
        "# res = np.matmul(inv, psi)\n",
        "# print(res)\n",
        "# plt.plot(x, res.real, 'o-')\n",
        "# plt.plot(x, psi.imag, 'b-')\n",
        "# plt.legend(['real', 'img'])\n",
        "# plt.show()"
      ]
    },
    {
      "cell_type": "code",
      "execution_count": null,
      "metadata": {
        "id": "PPfcgaeSPmlS"
      },
      "outputs": [],
      "source": [
        "# plt.ion()\n",
        "# for i in range(100):\n",
        "#   psi = np.matmul(inv, psi)\n",
        "#   plt.plot(x, psi.real, 'o-')\n",
        "#   plt.draw()\n",
        "#   plt.pause(0.0001)\n",
        "#   plt.clf()"
      ]
    },
    {
      "cell_type": "code",
      "execution_count": null,
      "metadata": {
        "colab": {
          "base_uri": "https://localhost:8080/",
          "height": 435
        },
        "id": "MBT7R-XfRGQp",
        "outputId": "1905d748-927c-4e4c-c63e-e40a1d2cef8c"
      },
      "outputs": [
        {
          "data": {
            "image/png": "[encoded data removed]",
            "text/plain": [
              "<Figure size 640x480 with 1 Axes>"
            ]
          },
          "metadata": {},
          "output_type": "display_data"
        }
      ],
      "source": [
        "fig = plt.figure()\n",
        "axis = plt.axes(xlim =(0, x[-1]),\n",
        "                ylim =(-1.5, 1.5))\n",
        "\n",
        "# initializing a line variable\n",
        "line1, = axis.plot([], [], 'b', lw = 3)\n",
        "line2, = axis.plot([], [], 'g', lw = 3)\n",
        "line3, = axis.plot([], [], 'k', lw = 3)\n",
        "\n",
        "axis.legend([line1, line2, line3], ['Re(Ψ)', 'Im(Ψ)', '|Ψ|^2'])\n",
        "\n",
        "def init():\n",
        "    line1.set_data([], [])\n",
        "    line2.set_data([], [])\n",
        "    line3.set_data([], [])\n",
        "    return line1, line2, line3,\n",
        "\n",
        "def animate(i):\n",
        "  global psi\n",
        "\n",
        "  line1.set_data(x, psi.real)\n",
        "  line2.set_data(x, psi.imag)\n",
        "  line3.set_data(x, np.power(np.absolute(psi),2))\n",
        "  psi = np.matmul(inv, psi)\n",
        "\n",
        "  return line1, line2, line3,\n",
        "\n",
        "anim = FuncAnimation(fig, animate, init_func = init, frames = 300, interval = 1, blit = True)\n",
        "\n",
        "anim.save('test.mp4', writer = 'ffmpeg', fps = 30)"
      ]
    },
    {
      "cell_type": "code",
      "execution_count": null,
      "metadata": {
        "id": "Cr1DcqkjSN-J"
      },
      "outputs": [],
      "source": []
    },
    {
      "cell_type": "code",
      "execution_count": null,
      "metadata": {
        "id": "DpH1orlzh3RO"
      },
      "outputs": [],
      "source": []
    },
    {
      "cell_type": "code",
      "execution_count": null,
      "metadata": {
        "id": "-w6d5NfNh3TT"
      },
      "outputs": [],
      "source": []
    },
    {
      "cell_type": "code",
      "execution_count": null,
      "metadata": {
        "id": "m8LnyUH6h3VW"
      },
      "outputs": [],
      "source": []
    },
    {
      "cell_type": "code",
      "execution_count": null,
      "metadata": {
        "id": "XudL1TiGh3Xu"
      },
      "outputs": [],
      "source": []
    },
    {
      "cell_type": "code",
      "execution_count": null,
      "metadata": {
        "id": "0MtpRtDWh3Zh"
      },
      "outputs": [],
      "source": []
    },
    {
      "cell_type": "markdown",
      "metadata": {
        "id": "jn_LvIGXh3rP"
      },
      "source": [
        "Second method"
      ]
    },
    {
      "cell_type": "code",
      "execution_count": null,
      "metadata": {
        "id": "HPnU_YbdkrPA"
      },
      "outputs": [],
      "source": [
        "from scipy import linalg"
      ]
    },
    {
      "cell_type": "code",
      "execution_count": null,
      "metadata": {
        "id": "GbGm_5d_h4cm"
      },
      "outputs": [],
      "source": [
        "NUM=100\n",
        "dt = 0.1\n",
        "dx = 0.1"
      ]
    },
    {
      "cell_type": "code",
      "execution_count": null,
      "metadata": {
        "colab": {
          "base_uri": "https://localhost:8080/"
        },
        "id": "504GM1vQh7CJ",
        "outputId": "dc5ee81c-3843-432b-c0d3-f67ea7bb38d0"
      },
      "outputs": [
        {
          "name": "stdout",
          "output_type": "stream",
          "text": [
            "[[100. -50.   0. ...   0.   0.   0.]\n",
            " [-50. 100. -50. ...   0.   0.   0.]\n",
            " [  0. -50. 100. ...   0.   0.   0.]\n",
            " ...\n",
            " [  0.   0.   0. ... 100. -50.   0.]\n",
            " [  0.   0.   0. ... -50. 100. -50.]\n",
            " [  0.   0.   0. ...   0. -50. 100.]]\n"
          ]
        }
      ],
      "source": [
        "M = diags([np.ones(NUM-1),-2*np.ones(NUM),np.ones(NUM-1)], [-1,0,1]).toarray()\n",
        "I = np.identity(NUM)\n",
        "V = np.zeros([NUM, NUM])\n",
        "H = -1/(2*dx**2) * M + V\n",
        "print(H)"
      ]
    },
    {
      "cell_type": "code",
      "execution_count": null,
      "metadata": {
        "id": "9DAtY6uWiSQi"
      },
      "outputs": [],
      "source": [
        "h1 = I - 0.5*1j*dt * H\n",
        "h2 = I + 0.5*1j*dt * H\n",
        "\n",
        "h2_inv = np.linalg.inv(h2)\n",
        "h = np.dot(h2_inv, h1)"
      ]
    },
    {
      "cell_type": "code",
      "execution_count": null,
      "metadata": {
        "id": "VCZRkkeilaWq"
      },
      "outputs": [],
      "source": [
        "def step_second_method(psi):\n",
        "  return np.dot(h, psi)"
      ]
    },
    {
      "cell_type": "code",
      "execution_count": null,
      "metadata": {
        "id": "RfNhtDtPid0N"
      },
      "outputs": [],
      "source": [
        "x2 = [0 + i*dx for i in range(NUM)]\n",
        "psi2 = np.zeros([NUM])\n",
        "psi2[10] = 2"
      ]
    },
    {
      "cell_type": "code",
      "execution_count": null,
      "metadata": {
        "colab": {
          "base_uri": "https://localhost:8080/",
          "height": 435
        },
        "id": "K06AuO9AjTYF",
        "outputId": "0a31af9a-2bb9-47f2-d308-c66e632485d7"
      },
      "outputs": [
        {
          "data": {
            "image/png": "[encoded data removed]",
            "text/plain": [
              "<Figure size 640x480 with 1 Axes>"
            ]
          },
          "metadata": {},
          "output_type": "display_data"
        }
      ],
      "source": [
        "fig = plt.figure()\n",
        "axis = plt.axes(xlim =(0, x2[-1]),\n",
        "                ylim =(-1.5, 1.5))\n",
        "\n",
        "# initializing a line variable\n",
        "line1, = axis.plot([], [], 'b', lw = 3)\n",
        "line2, = axis.plot([], [], 'g', lw = 3)\n",
        "line3, = axis.plot([], [], 'k', lw = 3)\n",
        "\n",
        "axis.legend([line1, line2, line3], ['Re(Ψ)', 'Im(Ψ)', '|Ψ|^2'])\n",
        "\n",
        "def init():\n",
        "    line1.set_data([], [])\n",
        "    line2.set_data([], [])\n",
        "    line3.set_data([], [])\n",
        "    return line1, line2, line3,\n",
        "\n",
        "def animate(i):\n",
        "  global psi2\n",
        "\n",
        "  line1.set_data(x2, psi2.real)\n",
        "  line2.set_data(x2, psi2.imag)\n",
        "  line3.set_data(x2, np.power(np.absolute(psi2),2))\n",
        "  psi2 = step_second_method(psi2)\n",
        "\n",
        "  return line1, line2, line3,\n",
        "\n",
        "anim = FuncAnimation(fig, animate, init_func = init, frames = 200, interval = 1, blit = True)\n",
        "\n",
        "anim.save('test.mp4', writer = 'ffmpeg', fps = 30)"
      ]
    },
    {
      "cell_type": "code",
      "execution_count": null,
      "metadata": {
        "id": "TVIbAQ3Ajp8d"
      },
      "outputs": [],
      "source": []
    }
  ],
  "metadata": {
    "colab": {
      "include_colab_link": true,
      "provenance": []
    },
    "kernelspec": {
      "display_name": "Python 3",
      "name": "python3"
    },
    "language_info": {
      "name": "python"
    }
  },
  "nbformat": 4,
  "nbformat_minor": 0
}
