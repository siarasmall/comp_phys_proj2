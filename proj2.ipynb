{
 "cells": [
  {
   "cell_type": "code",
   "execution_count": 1,
   "metadata": {},
   "outputs": [
    {
     "name": "stdout",
     "output_type": "stream",
     "text": [
      "Intel MKL WARNING: Support of Intel(R) Streaming SIMD Extensions 4.2 (Intel(R) SSE4.2) enabled only processors has been deprecated. Intel oneAPI Math Kernel Library 2025.0 will require Intel(R) Advanced Vector Extensions (Intel(R) AVX) instructions.\n",
      "Intel MKL WARNING: Support of Intel(R) Streaming SIMD Extensions 4.2 (Intel(R) SSE4.2) enabled only processors has been deprecated. Intel oneAPI Math Kernel Library 2025.0 will require Intel(R) Advanced Vector Extensions (Intel(R) AVX) instructions.\n"
     ]
    }
   ],
   "source": [
    "# Imports\n",
    "import numpy as np\n",
    "\n",
    "# Local imports\n",
    "from potentials import Potential, PotentialWithBarriers\n",
    "from animator import Animation\n",
    "from method2 import WaveFunctionSimulation"
   ]
  },
  {
   "cell_type": "code",
   "execution_count": null,
   "metadata": {},
   "outputs": [],
   "source": [
    "simulation = WaveFunctionSimulation()\n",
    "wavefunctions = simulation.simulate(50, 2, 3)\n",
    "x, START, END, FRAMES = simulation.get_animation_vars()"
   ]
  },
  {
   "cell_type": "code",
   "execution_count": null,
   "metadata": {},
   "outputs": [],
   "source": [
    "fig = plt.figure()\n",
    "axis = plt.axes(xlim =(START, END),\n",
    "                ylim =(-0.5, 0.5))\n",
    "\n",
    "# initializing a line variable\n",
    "line1, = axis.plot([], [], 'b', lw = 2, alpha=0.6)\n",
    "line2, = axis.plot([], [], 'g', lw = 2, alpha=0.6)\n",
    "line3, = axis.plot([], [], 'k', lw = 3)\n",
    "\n",
    "# psi = init_gaussian(x, 10, 2, 1)\n",
    "\n",
    "axis.legend([line1, line2, line3], ['Re(Ψ)', 'Im(Ψ)', '|Ψ|^2'])\n",
    "\n",
    "def init():\n",
    "    line1.set_data([], [])\n",
    "    line2.set_data([], [])\n",
    "    line3.set_data([], [])\n",
    "    return line1, line2, line3\n",
    "\n",
    "def animate(i):\n",
    "  global psi\n",
    "\n",
    "  real = wavefunctions[i].real\n",
    "  imag = wavefunctions[i].imag\n",
    "  pdf = real**2 + imag**2\n",
    "\n",
    "  line1.set_data(x, real)\n",
    "  line2.set_data(x, imag)\n",
    "  line3.set_data(x, pdf)\n",
    "\n",
    "  return line1, line2, line3,\n",
    "\n",
    "anim = FuncAnimation(fig, animate, init_func = init, frames = FRAMES+1, interval = 1, blit = True)\n",
    "\n",
    "anim.save('test.mp4', writer = 'ffmpeg', fps = 60)"
   ]
  }
 ],
 "metadata": {
  "interpreter": {
   "hash": "d5603cc4667a52057224efdf5ddcc7de73a3282f447f21696056843efd22823e"
  },
  "kernelspec": {
   "display_name": "Python 3.10.12 ('cs135_env')",
   "language": "python",
   "name": "python3"
  },
  "language_info": {
   "codemirror_mode": {
    "name": "ipython",
    "version": 3
   },
   "file_extension": ".py",
   "mimetype": "text/x-python",
   "name": "python",
   "nbconvert_exporter": "python",
   "pygments_lexer": "ipython3",
   "version": "3.10.12"
  },
  "orig_nbformat": 4
 },
 "nbformat": 4,
 "nbformat_minor": 2
}
