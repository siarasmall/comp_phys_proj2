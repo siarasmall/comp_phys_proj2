{
 "cells": [
  {
   "cell_type": "code",
   "execution_count": null,
   "metadata": {},
   "outputs": [],
   "source": [
    "# Imports\n",
    "import numpy as np\n",
    "\n",
    "# Local imports\n",
    "from potentials import Potential, PotentialWithBarriers\n",
    "from animator import Animation\n",
    "from method2 import WaveFunctionSimulation"
   ]
  }
 ],
 "metadata": {
  "language_info": {
   "name": "python"
  },
  "orig_nbformat": 4
 },
 "nbformat": 4,
 "nbformat_minor": 2
}
