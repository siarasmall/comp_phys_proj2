{
  "nbformat": 4,
  "nbformat_minor": 0,
  "metadata": {
    "colab": {
      "provenance": [],
      "authorship_tag": "ABX9TyOpCkBzpdCV8k1DXNuWxq+L",
      "include_colab_link": true
    },
    "kernelspec": {
      "name": "python3",
      "display_name": "Python 3"
    },
    "language_info": {
      "name": "python"
    }
  },
  "cells": [
    {
      "cell_type": "markdown",
      "metadata": {
        "id": "view-in-github",
        "colab_type": "text"
      },
      "source": [
        "<a href=\"https://colab.research.google.com/github/siarasmall/comp_phys_proj2/blob/main/Method2Class.ipynb\" target=\"_parent\"><img src=\"https://colab.research.google.com/assets/colab-badge.svg\" alt=\"Open In Colab\"/></a>"
      ]
    },
    {
      "cell_type": "code",
      "execution_count": 6,
      "metadata": {
        "id": "onIlkZNex1En"
      },
      "outputs": [],
      "source": [
        "import numpy as np\n",
        "from scipy.sparse import diags\n",
        "import matplotlib.pyplot as plt\n",
        "from matplotlib.animation import FuncAnimation"
      ]
    },
    {
      "cell_type": "markdown",
      "source": [
        "# Non-class version to test"
      ],
      "metadata": {
        "id": "P2dHELr-10xp"
      }
    },
    {
      "cell_type": "code",
      "source": [
        "NUM_POINTS=500\n",
        "FRAMES=300\n",
        "START = 0\n",
        "END = 100\n",
        "x, dx = np.linspace(START, END, NUM_POINTS, retstep=True)\n",
        "dt = 100"
      ],
      "metadata": {
        "id": "rvttqaz0yHcb"
      },
      "execution_count": 88,
      "outputs": []
    },
    {
      "cell_type": "code",
      "source": [
        "M = diags([np.ones(NUM_POINTS-1),-2*np.ones(NUM_POINTS),np.ones(NUM_POINTS-1)], [-1,0,1]).toarray()\n",
        "# This makes the wavefunction loop around\n",
        "# M = [[-2. 1. 0. .... 1.]\n",
        "#      [1. -2. 1. .... 0.]\n",
        "#      [0. 1. -2. .... 0.]\n",
        "#      [1. 0. .... 1. -2.]]\n",
        "\n",
        "M[0][-1]=1\n",
        "M[-1][0]=1\n",
        "print(M)\n",
        "\n",
        "# POTENTIAL\n",
        "# Zero potential / potential step\n",
        "# V = np.zeros([NUM_POINTS, NUM_POINTS])\n",
        "# V[len(V)//2][len(V)//2] = 0.02\n",
        "\n",
        "# Harmonic potential\n",
        "pot_val = 0.5 * (0.01*0.01) * (x-x[int(len(x)//2)])**2\n",
        "V = np.diag(pot_val)\n",
        "\n",
        "\n",
        "H = -0.5 * (dx*dx) * M + V\n",
        "I = np.identity(NUM_POINTS)\n",
        "h1 = I - (1j * dt * 0.5 * H)\n",
        "h2 = I + (1j * dt * 0.5 * H)\n",
        "h2_inv = np.linalg.inv(h2)\n",
        "h_mat = np.matmul(h2_inv, h1)"
      ],
      "metadata": {
        "colab": {
          "base_uri": "https://localhost:8080/"
        },
        "id": "65XosZc8yMvX",
        "outputId": "12078fb1-4037-4761-e8f7-87a9b4887e3b"
      },
      "execution_count": 124,
      "outputs": [
        {
          "output_type": "stream",
          "name": "stdout",
          "text": [
            "[[-2.  1.  0. ...  0.  0.  1.]\n",
            " [ 1. -2.  1. ...  0.  0.  0.]\n",
            " [ 0.  1. -2. ...  0.  0.  0.]\n",
            " ...\n",
            " [ 0.  0.  0. ... -2.  1.  0.]\n",
            " [ 0.  0.  0. ...  1. -2.  1.]\n",
            " [ 1.  0.  0. ...  0.  1. -2.]]\n"
          ]
        }
      ]
    },
    {
      "cell_type": "code",
      "source": [
        "def step(psi):\n",
        "  return np.matmul(h_mat, psi)"
      ],
      "metadata": {
        "id": "o6JV8vvCyjs7"
      },
      "execution_count": 112,
      "outputs": []
    },
    {
      "cell_type": "code",
      "source": [
        "def init_gaussian(x, mu, sigma, k):\n",
        "  A = (2*np.pi)**-0.25 * sigma**-0.5 * np.exp(-(x-mu)**2/((2*sigma)**2))\n",
        "  return A * np.exp(1j*k*x)"
      ],
      "metadata": {
        "id": "7wf2-0_OynFm"
      },
      "execution_count": 113,
      "outputs": []
    },
    {
      "cell_type": "code",
      "source": [
        "wavefunctions = [init_gaussian(x, 50, 2, 3)]\n",
        "for i in range(FRAMES):\n",
        "  wavefunctions.append(step(wavefunctions[-1]))\n",
        "\n",
        "wavefunctions = np.array(wavefunctions)"
      ],
      "metadata": {
        "id": "oK8iDSmWz6jT"
      },
      "execution_count": 122,
      "outputs": []
    },
    {
      "cell_type": "markdown",
      "source": [
        "# Simulation Class"
      ],
      "metadata": {
        "id": "7yG5YCl5Xvpm"
      }
    },
    {
      "cell_type": "code",
      "source": [
        "class WaveFunctionSimulation:\n",
        "  def __init__(self, start=0, end=100, points=500, dt=100, steps=300, periodic=True, potential=None):\n",
        "    self.START=start\n",
        "    self.END=end\n",
        "    self.NUM_POINTS=points\n",
        "    self.STEPS=steps\n",
        "    self.dt=dt\n",
        "    self.x, self.dx = np.linspace(start, end, points, retstep=True)\n",
        "    self.periodic=periodic\n",
        "    self.wavefunctions = []\n",
        "    # self.initial_psi = np.zeros([self.NUM_POINTS])\n",
        "\n",
        "    if potential==None:\n",
        "      self.potential = np.zeros([self.NUM_POINTS])\n",
        "    else:\n",
        "      self.potential = potential\n",
        "\n",
        "    self.step_matrix = self.init_matrix()\n",
        "\n",
        "  def init_matrix(self):\n",
        "    M = diags([np.ones(self.NUM_POINTS-1),-2*np.ones(self.NUM_POINTS),np.ones(self.NUM_POINTS-1)], [-1,0,1]).toarray()\n",
        "    if self.periodic:\n",
        "      M[0][-1]=1\n",
        "      M[-1][0]=1\n",
        "\n",
        "    H = -0.5 * (self.dx*self.dx) * M + self.potential\n",
        "    I = np.identity(self.NUM_POINTS)\n",
        "    h1 = I - (1j * self.dt * 0.5 * H)\n",
        "    h2 = I + (1j * self.dt * 0.5 * H)\n",
        "    h2_inv = np.linalg.inv(h2)\n",
        "    return np.matmul(h2_inv, h1)\n",
        "\n",
        "  def init_gaussian(self, x, mu, sigma, k):\n",
        "    A = (2*np.pi)**-0.25 * sigma**-0.5 * np.exp(-(x-mu)**2/((2*sigma)**2))\n",
        "    return A * np.exp(1j*k*x)\n",
        "\n",
        "  def step(self, psi):\n",
        "    return np.matmul(self.step_matrix, psi)\n",
        "\n",
        "  def simulate(self, mu, sigma, k):\n",
        "    self.wavefunctions = [self.init_gaussian(self.x, mu, sigma, k)]\n",
        "    for i in range(self.STEPS):\n",
        "      self.wavefunctions.append(self.step(self.wavefunctions[-1]))\n",
        "\n",
        "    self.wavefunctions = np.array(self.wavefunctions)\n",
        "    return self.wavefunctions\n",
        "\n",
        "  def get_animation_vars(self):\n",
        "    return self.x, self.START, self.END, self.STEPS"
      ],
      "metadata": {
        "id": "rodgUKtYx8tD"
      },
      "execution_count": 32,
      "outputs": []
    },
    {
      "cell_type": "code",
      "source": [
        "simulation = WaveFunctionSimulation()\n",
        "wavefunctions = simulation.simulate(50, 2, 3)\n",
        "x, START, END, FRAMES = simulation.get_animation_vars()"
      ],
      "metadata": {
        "id": "JicHufJ_x8d7"
      },
      "execution_count": 33,
      "outputs": []
    },
    {
      "cell_type": "markdown",
      "source": [
        "# Basic Animation of Simulation"
      ],
      "metadata": {
        "id": "wFH39SQNXVwX"
      }
    },
    {
      "cell_type": "code",
      "source": [
        "fig = plt.figure()\n",
        "axis = plt.axes(xlim =(START, END),\n",
        "                ylim =(-0.5, 0.5))\n",
        "\n",
        "# initializing a line variable\n",
        "line1, = axis.plot([], [], 'b', lw = 2, alpha=0.6)\n",
        "line2, = axis.plot([], [], 'g', lw = 2, alpha=0.6)\n",
        "line3, = axis.plot([], [], 'k', lw = 3)\n",
        "\n",
        "# psi = init_gaussian(x, 10, 2, 1)\n",
        "\n",
        "axis.legend([line1, line2, line3], ['Re(Ψ)', 'Im(Ψ)', '|Ψ|^2'])\n",
        "\n",
        "def init():\n",
        "    line1.set_data([], [])\n",
        "    line2.set_data([], [])\n",
        "    line3.set_data([], [])\n",
        "    return line1, line2, line3\n",
        "\n",
        "def animate(i):\n",
        "  global psi\n",
        "\n",
        "  real = wavefunctions[i].real\n",
        "  imag = wavefunctions[i].imag\n",
        "  pdf = real**2 + imag**2\n",
        "\n",
        "  line1.set_data(x, real)\n",
        "  line2.set_data(x, imag)\n",
        "  line3.set_data(x, pdf)\n",
        "\n",
        "  return line1, line2, line3,\n",
        "\n",
        "anim = FuncAnimation(fig, animate, init_func = init, frames = FRAMES+1, interval = 1, blit = True)\n",
        "\n",
        "anim.save('test.mp4', writer = 'ffmpeg', fps = 60)"
      ],
      "metadata": {
        "colab": {
          "base_uri": "https://localhost:8080/",
          "height": 430
        },
        "id": "CLBjfzZqy2gx",
        "outputId": "047b8610-cbaf-4655-bce9-13ffa7a5b5c6"
      },
      "execution_count": 34,
      "outputs": [
        {
          "output_type": "display_data",
          "data": {
            "text/plain": [
              "<Figure size 640x480 with 1 Axes>"
            ],
            "image/png": "[encoded data removed]"
          },
          "metadata": {}
        }
      ]
    },
    {
      "cell_type": "code",
      "source": [],
      "metadata": {
        "id": "BHLPd7bpzbf2"
      },
      "execution_count": null,
      "outputs": []
    }
  ]
}