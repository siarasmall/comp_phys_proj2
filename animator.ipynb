{
  "cells": [
    {
      "cell_type": "markdown",
      "metadata": {
        "id": "bXLVVmyLaRUS"
      },
      "source": [
        "Below is an example usage of the animator module:\n",
        "\n",
        "Note: animator.py must be uploaded to the same directory as the notebook for the below code to function properly"
      ]
    },
    {
      "cell_type": "code",
      "execution_count": null,
      "metadata": {
        "id": "iHYIql_rwoQ4"
      },
      "outputs": [],
      "source": [
        "import animator\n",
        "import numpy as np\n",
        "\n",
        "# Set the names of the curves and the x- and y-limits for the animation\n",
        "a = animator.Animation(['Re(Ψ)', 'Im(Ψ)', '|Ψ|^2'],\n",
        "                       (-2*np.pi, 2*np.pi), (-10, 10))\n",
        "\n",
        "# define an \"animate\" function which takes in the integer frame number,\n",
        "# calls Animation.set_data to data and returns Animation.lines\n",
        "x = np.arange(-2*np.pi, 2*np.pi, 0.01)\n",
        "def animate1(i):\n",
        "  a.set_data(0, x, np.sin(x * 1.5**(i / 100)))\n",
        "  a.set_data(1, x, np.sin(x * 1.5**(i / 50)))\n",
        "  a.set_data(2, x, np.sin(x * 1.5**(i / 25)))\n",
        "  return a.lines\n",
        "\n",
        "# set the animate function and make the animation\n",
        "a.set_anim_func(animate1)\n",
        "ani1 = a.make_anim(frames=100, interval=20, blit=True)\n",
        "\n",
        "# a.save('ani1.mp4')     # uncomment this line to save to a mp4 file\n",
        "\n",
        "# if the last line in a notebook cell is a matplotlib FuncAnimation object,\n",
        "# which is what Animation.make_anim returns, settings in the Animation object's\n",
        "# constructor cause it to be output directly, so simply type the variable name\n",
        "# to output your animation\n",
        "ani1"
      ]
    },
    {
      "cell_type": "code",
      "execution_count": null,
      "metadata": {
        "id": "fm7DYiIe_0zM"
      },
      "outputs": [],
      "source": [
        "# after an object has been created, it's animate function can be modified\n",
        "def animate2(i):\n",
        "  a.set_data(0, x, np.sin(x * 1.5**(-i / 100)))\n",
        "  a.set_data(1, x, np.sin(x * 1.5**(-i / 50)))\n",
        "  a.set_data(2, x, np.sin(x * 1.5**(-i / 25)))\n",
        "  return a.lines\n",
        "\n",
        "# the output of Animation.make_anim does not need to be stored into\n",
        "# a variable to display the animation, so long as it is the last\n",
        "# entry in the cell, as seen below\n",
        "a.set_anim_func(animate2)\n",
        "a.make_anim(frames=100, interval=20, blit=True)"
      ]
    },
    {
      "cell_type": "markdown",
      "metadata": {
        "id": "eKgLps5VDpRF"
      },
      "source": [
        "Note that only one animation can be embed at a time based on how they're displayed in a notebook."
      ]
    },
    {
      "cell_type": "markdown",
      "metadata": {
        "id": "PgktEJXtC5iU"
      },
      "source": [
        "Below are the contents of animator.py for better understanding of features:\n",
        "```\n",
        "class Animation:\n",
        "  # allow for html embedded animations, and import matplotlib\n",
        "  from matplotlib import rc\n",
        "  rc('animation', html='jshtml')\n",
        "\n",
        "  import matplotlib.pyplot as plt\n",
        "  import matplotlib.animation as anim\n",
        "\n",
        "  def __init__(self, names: list[str], xlim: tuple, ylim: tuple):\n",
        "    if not isinstance(names, list):\n",
        "      raise TypeError(\"names must be a list of strings\")\n",
        "    for name in names:\n",
        "      if not isinstance(name, str):\n",
        "        raise TypeError(\"names must be a list of strings\")\n",
        "    if not isinstance(xlim, tuple) or len(xlim) != 2:\n",
        "      raise TypeError(\"xlim must be a 2-tuple of floats\")\n",
        "    if not isinstance(ylim, tuple) or len(ylim) != 2:\n",
        "      raise TypeError(\"ylim must be a 2-tuple of floats\")\n",
        "    \n",
        "    # set up plot\n",
        "    self.fig, self.ax = Animation.plt.subplots()\n",
        "\n",
        "    self.lines = []\n",
        "    for name in names:\n",
        "      line, = self.ax.plot([], [], lw = 3)\n",
        "      self.lines.append(line)\n",
        "    \n",
        "    self.ax.legend([ line for line in self.lines ], [ name for name in names ])\n",
        "    self.ax.set_xlim(xlim[0], xlim[1])\n",
        "    self.ax.set_ylim(ylim[0], ylim[1])\n",
        "\n",
        "    # for some reason subplots() is showing a plot, so hide as not required\n",
        "    self.plt.close()\n",
        "  \n",
        "  def set_data(self, lineNum: int, x: list[float], y: list[float]):\n",
        "    self.lines[lineNum].set_data(x, y)\n",
        "  \n",
        "  # func: (frame: int) -> a.lines\n",
        "  def set_anim_func(self, func):\n",
        "    self.func = func\n",
        "  \n",
        "  # frames = number of frames\n",
        "  # interval = time between frames in ms\n",
        "  def make_anim(self, frames: int, interval: int, blit: bool):\n",
        "    self.anim = Animation.anim.FuncAnimation(self.fig,\n",
        "                                             self.func,\n",
        "                                             frames=frames,\n",
        "                                             interval=interval,\n",
        "                                             blit=blit)\n",
        "    return self.anim\n",
        "\n",
        "  # unable to have a \"show()\" function with html embed, so just save the output\n",
        "  # of make_anim to a variable and type the name of that variable to show\n",
        "  #\n",
        "  # ex:\n",
        "  #   >>> ani = a.make_anim(frames=100, interval=20, blit=True)\n",
        "  #   >>> ani\n",
        "\n",
        "  def save(self, path: str):\n",
        "    if not isinstance(path, str):\n",
        "      raise TypeError(\"path must be a string\")\n",
        "    self.anim.save(path)\n",
        "```"
      ]
    }
  ],
  "metadata": {
    "colab": {
      "provenance": []
    },
    "interpreter": {
      "hash": "d5603cc4667a52057224efdf5ddcc7de73a3282f447f21696056843efd22823e"
    },
    "kernelspec": {
      "display_name": "Python 3.10.12 ('cs135_env')",
      "language": "python",
      "name": "python3"
    },
    "language_info": {
      "name": "python",
      "version": "3.10.12"
    }
  },
  "nbformat": 4,
  "nbformat_minor": 0
}
